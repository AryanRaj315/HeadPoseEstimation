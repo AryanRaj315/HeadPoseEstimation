{
 "cells": [
  {
   "cell_type": "markdown",
   "metadata": {
    "colab_type": "text",
    "id": "AUxneR2HX9R8"
   },
   "source": [
    "# Getting the Data and Unzipping"
   ]
  },
  {
   "cell_type": "code",
   "execution_count": 1,
   "metadata": {
    "colab": {},
    "colab_type": "code",
    "id": "9l7D4OEoZbVK"
   },
   "outputs": [],
   "source": [
    "import os\n",
    "import cv2\n",
    "from math import atan2, asin\n",
    "import numpy as np\n",
    "import pandas as pd\n",
    "import math\n",
    "import matplotlib.pyplot as plt\n",
    "from tqdm import tqdm_notebook as tqdm\n",
    "from torch.utils.data import DataLoader, Dataset, sampler\n",
    "from torch.optim.lr_scheduler import ReduceLROnPlateau\n",
    "import albumentations as aug\n",
    "from albumentations import (HorizontalFlip,VerticalFlip, ShiftScaleRotate, Normalize, Resize, Compose, GaussNoise,RandomRotate90,Transpose,RandomBrightnessContrast, RandomCrop)\n",
    "from albumentations.pytorch import ToTensor\n",
    "import torch\n",
    "from torchvision import transforms\n",
    "import torch.nn as nn\n",
    "from torch.nn import functional as F\n",
    "import torch.optim as optim\n",
    "import torch.backends.cudnn as cudnn\n",
    "import torchvision.models as models\n",
    "import time\n",
    "import scipy.io\n",
    "import random"
   ]
  },
  {
   "cell_type": "markdown",
   "metadata": {
    "colab_type": "text",
    "id": "fdEyYAZnYFeu"
   },
   "source": [
    "Getting the Path of train and test data"
   ]
  },
  {
   "cell_type": "code",
   "execution_count": 2,
   "metadata": {
    "colab": {},
    "colab_type": "code",
    "id": "80uibl72aNuN"
   },
   "outputs": [],
   "source": [
    "def TrainPathList(path):\n",
    "  Img_Path = []\n",
    "  for root, dirs, files in os.walk(path, topdown=False):\n",
    "      for filename in files:\n",
    "        if(filename[-3:] == 'jpg'):\n",
    "          Img_Path.append(root+'/'+filename)\n",
    "  return Img_Path        "
   ]
  },
  {
   "cell_type": "code",
   "execution_count": 3,
   "metadata": {
    "colab": {},
    "colab_type": "code",
    "id": "F2aIaHJHe30X"
   },
   "outputs": [],
   "source": [
    "def TestPathList(path):\n",
    "  Img_Path = []\n",
    "  for root, dirs, files in os.walk(path, topdown=False):\n",
    "      for filename in files:\n",
    "        if(filename[-3:] == 'jpg'):\n",
    "          Img_Path.append(root+filename)\n",
    "  return Img_Path        "
   ]
  },
  {
   "cell_type": "code",
   "execution_count": 4,
   "metadata": {},
   "outputs": [],
   "source": [
    "TrainImagesPath = TrainPathList('../../300W_LP/')"
   ]
  },
  {
   "cell_type": "code",
   "execution_count": 5,
   "metadata": {},
   "outputs": [],
   "source": [
    "TestImagesPath = TestPathList('../../AFLW2000/')"
   ]
  },
  {
   "cell_type": "markdown",
   "metadata": {
    "colab_type": "text",
    "id": "UeUGUpYGYQIz"
   },
   "source": [
    "Function to get Yaw, Pitch and Roll using Rotation matrix "
   ]
  },
  {
   "cell_type": "code",
   "execution_count": 6,
   "metadata": {},
   "outputs": [
    {
     "name": "stdout",
     "output_type": "stream",
     "text": [
      "fatal: destination path 'EfficientNet-PyTorch' already exists and is not an empty directory.\r\n"
     ]
    }
   ],
   "source": [
    "!git clone https://github.com/AryanRaj315/EfficientNet-PyTorch"
   ]
  },
  {
   "cell_type": "code",
   "execution_count": 7,
   "metadata": {
    "colab": {},
    "colab_type": "code",
    "id": "IfqUoPPdaSsb"
   },
   "outputs": [],
   "source": [
    "def getAngles(path):\n",
    "    mat = scipy.io.loadmat(path)\n",
    "    angle_mat = mat['Pose_Para'][0]\n",
    "    pitch = angle_mat[0]*180/math.pi\n",
    "    yaw = angle_mat[1]*180/math.pi\n",
    "    roll = angle_mat[2]*180/math.pi\n",
    "    return np.array([yaw, pitch, roll]) "
   ]
  },
  {
   "cell_type": "markdown",
   "metadata": {
    "colab_type": "text",
    "id": "l_Z7qICRYXZ5"
   },
   "source": [
    "# Class for Dataset"
   ]
  },
  {
   "cell_type": "code",
   "execution_count": 8,
   "metadata": {
    "colab": {},
    "colab_type": "code",
    "id": "EwQqRLcDaSu-"
   },
   "outputs": [],
   "source": [
    "class WLP300Dataset(Dataset):\n",
    "    def __init__(self, image_path):\n",
    "        self.phase = 'train'\n",
    "        self.transform = ToTensor()\n",
    "        self.path = image_path\n",
    "        self.transforms = get_transforms(self.phase)\n",
    "\n",
    "    def __getitem__(self, idx):\n",
    "        Image = cv2.imread(self.path[idx])\n",
    "        Angle = getAngles(self.path[idx][:-3]+'mat')\n",
    "        Image = cv2.resize(Image,(224,224))\n",
    "        Image = Image.transpose(2,0,1)  # Making Channel First \n",
    "        Image = torch.from_numpy(Image).type(torch.FloatTensor)\n",
    "        Angle = torch.from_numpy(Angle).type(torch.FloatTensor)  \n",
    "        return Image, Angle\n",
    "\n",
    "    def __len__(self):\n",
    "          return len(self.path)"
   ]
  },
  {
   "cell_type": "code",
   "execution_count": 9,
   "metadata": {
    "colab": {},
    "colab_type": "code",
    "id": "DFCZMJdYaSxz"
   },
   "outputs": [],
   "source": [
    "class AFLWDataset(Dataset):\n",
    "    def __init__(self, image_path):\n",
    "        self.phase = 'test'\n",
    "        self.transform = ToTensor()\n",
    "        self.path = image_path\n",
    "        self.transforms = get_transforms(self.phase)\n",
    "\n",
    "    def __getitem__(self, idx):\n",
    "        Image = cv2.imread(self.path[idx])\n",
    "        Angle = getAngles(self.path[idx][:-3]+'mat')\n",
    "        Image = cv2.resize(Image,(224, 224))\n",
    "        Image = Image.transpose(2,0,1)  # Making Channel First \n",
    "        Image = torch.from_numpy(Image).type(torch.FloatTensor)\n",
    "        Angle = torch.from_numpy(Angle).type(torch.FloatTensor)  \n",
    "        return Image, Angle\n",
    "\n",
    "    def __len__(self):\n",
    "          return len(self.path)"
   ]
  },
  {
   "cell_type": "code",
   "execution_count": null,
   "metadata": {
    "collapsed": true
   },
   "outputs": [
    {
     "name": "stdout",
     "output_type": "stream",
     "text": [
      "Requirement already satisfied: albumentations in /home/aryan/anaconda3/lib/python3.7/site-packages (0.4.3)\n",
      "Requirement already satisfied: scipy in /home/aryan/anaconda3/lib/python3.7/site-packages (from albumentations) (1.2.1)\n",
      "Requirement already satisfied: opencv-python>=4.1.1 in /home/aryan/anaconda3/lib/python3.7/site-packages (from albumentations) (4.1.2.30)\n",
      "Requirement already satisfied: imgaug<0.2.7,>=0.2.5 in /home/aryan/anaconda3/lib/python3.7/site-packages (from albumentations) (0.2.6)\n",
      "Requirement already satisfied: numpy>=1.11.1 in /home/aryan/anaconda3/lib/python3.7/site-packages (from albumentations) (1.18.0)\n",
      "Requirement already satisfied: PyYAML in /home/aryan/anaconda3/lib/python3.7/site-packages (from albumentations) (5.1)\n",
      "Requirement already satisfied: six in /home/aryan/anaconda3/lib/python3.7/site-packages (from imgaug<0.2.7,>=0.2.5->albumentations) (1.12.0)\n",
      "Requirement already satisfied: scikit-image>=0.11.0 in /home/aryan/anaconda3/lib/python3.7/site-packages (from imgaug<0.2.7,>=0.2.5->albumentations) (0.14.2)\n",
      "Requirement already satisfied: dask[array]>=1.0.0 in /home/aryan/anaconda3/lib/python3.7/site-packages (from scikit-image>=0.11.0->imgaug<0.2.7,>=0.2.5->albumentations) (1.1.4)\n",
      "Requirement already satisfied: cloudpickle>=0.2.1 in /home/aryan/anaconda3/lib/python3.7/site-packages (from scikit-image>=0.11.0->imgaug<0.2.7,>=0.2.5->albumentations) (0.8.0)\n",
      "Requirement already satisfied: PyWavelets>=0.4.0 in /home/aryan/anaconda3/lib/python3.7/site-packages (from scikit-image>=0.11.0->imgaug<0.2.7,>=0.2.5->albumentations) (1.0.2)\n",
      "Requirement already satisfied: pillow>=4.3.0 in /home/aryan/anaconda3/lib/python3.7/site-packages (from scikit-image>=0.11.0->imgaug<0.2.7,>=0.2.5->albumentations) (5.4.1)\n",
      "Requirement already satisfied: matplotlib>=2.0.0 in /home/aryan/anaconda3/lib/python3.7/site-packages (from scikit-image>=0.11.0->imgaug<0.2.7,>=0.2.5->albumentations) (3.0.3)\n",
      "Requirement already satisfied: networkx>=1.8 in /home/aryan/anaconda3/lib/python3.7/site-packages (from scikit-image>=0.11.0->imgaug<0.2.7,>=0.2.5->albumentations) (2.2)\n",
      "Requirement already satisfied: toolz>=0.7.3; extra == \"array\" in /home/aryan/anaconda3/lib/python3.7/site-packages (from dask[array]>=1.0.0->scikit-image>=0.11.0->imgaug<0.2.7,>=0.2.5->albumentations) (0.9.0)\n",
      "Requirement already satisfied: cycler>=0.10 in /home/aryan/anaconda3/lib/python3.7/site-packages (from matplotlib>=2.0.0->scikit-image>=0.11.0->imgaug<0.2.7,>=0.2.5->albumentations) (0.10.0)\n",
      "Requirement already satisfied: kiwisolver>=1.0.1 in /home/aryan/anaconda3/lib/python3.7/site-packages (from matplotlib>=2.0.0->scikit-image>=0.11.0->imgaug<0.2.7,>=0.2.5->albumentations) (1.0.1)\n",
      "Requirement already satisfied: pyparsing!=2.0.4,!=2.1.2,!=2.1.6,>=2.0.1 in /home/aryan/anaconda3/lib/python3.7/site-packages (from matplotlib>=2.0.0->scikit-image>=0.11.0->imgaug<0.2.7,>=0.2.5->albumentations) (2.3.1)\n",
      "Requirement already satisfied: python-dateutil>=2.1 in /home/aryan/anaconda3/lib/python3.7/site-packages (from matplotlib>=2.0.0->scikit-image>=0.11.0->imgaug<0.2.7,>=0.2.5->albumentations) (2.8.0)\n",
      "Requirement already satisfied: decorator>=4.3.0 in /home/aryan/anaconda3/lib/python3.7/site-packages (from networkx>=1.8->scikit-image>=0.11.0->imgaug<0.2.7,>=0.2.5->albumentations) (4.4.0)\n",
      "Requirement already satisfied: setuptools in /home/aryan/anaconda3/lib/python3.7/site-packages (from kiwisolver>=1.0.1->matplotlib>=2.0.0->scikit-image>=0.11.0->imgaug<0.2.7,>=0.2.5->albumentations) (40.8.0)\n"
     ]
    }
   ],
   "source": [
    "!pip install albumentations"
   ]
  },
  {
   "cell_type": "code",
   "execution_count": 10,
   "metadata": {},
   "outputs": [],
   "source": [
    "def get_transforms(phase):\n",
    "    list_transforms = []\n",
    "    if phase == \"train\":\n",
    "        list_transforms.extend(\n",
    "        [\n",
    "         aug.OneOf([\n",
    "             aug.RandomContrast(),\n",
    "             aug.RandomGamma(),\n",
    "             aug.RandomBrightness(),\n",
    "             ], p=1),\n",
    "         Normalize(mean=[0.485,0.456,0.406], std=[0.229,0.224,0.225], p=1),\n",
    "         ToTensor(),\n",
    "        ]\n",
    "    )\n",
    "        #In case of test\n",
    "    list_transforms.extend(\n",
    "        [\n",
    "            Normalize(mean=[0.485,0.456,0.406], std=[0.229,0.224,0.225], p=1),\n",
    "            ToTensor(),\n",
    "        ]\n",
    "    )\n",
    "    list_trfms = Compose(list_transforms)\n",
    "    return list_trfms"
   ]
  },
  {
   "cell_type": "code",
   "execution_count": 11,
   "metadata": {
    "colab": {},
    "colab_type": "code",
    "id": "K7zYJj8faS9K"
   },
   "outputs": [],
   "source": [
    "def provider(phase, image_list,  batch_size=8, num_workers=8):  \n",
    "    if phase == 'test':\n",
    "        image_dataset = AFLWDataset(image_list)\n",
    "    else:    \n",
    "        image_dataset = WLP300Dataset(image_list)\n",
    "    dataloader = DataLoader(\n",
    "        image_dataset,\n",
    "        batch_size=batch_size,\n",
    "        num_workers=num_workers,\n",
    "        pin_memory=True,\n",
    "        shuffle=True,   \n",
    "    )\n",
    "    return dataloader"
   ]
  },
  {
   "cell_type": "markdown",
   "metadata": {
    "colab_type": "text",
    "id": "Qz3deOd9YgeO"
   },
   "source": [
    "# Class for Training"
   ]
  },
  {
   "cell_type": "code",
   "execution_count": 97,
   "metadata": {
    "colab": {},
    "colab_type": "code",
    "id": "4o7ecbkuaS_c"
   },
   "outputs": [],
   "source": [
    "class Trainer(object):\n",
    "    '''This class takes care of training and validpathation of our model'''\n",
    "    def __init__(self, model, Train_image_list,Test_image_list, bs, lr, epochs):\n",
    "        self.batch_size = bs\n",
    "        self.accumulation_steps = 1\n",
    "        self.lr = lr\n",
    "        self.num_epochs = epochs\n",
    "        self.best_loss = float(\"inf\")\n",
    "        self.phases = [\"train\", \"val\"]\n",
    "        self.device = torch.device(\"cuda:0\")\n",
    "        torch.set_default_tensor_type(\"torch.cuda.FloatTensor\")\n",
    "        self.net = model\n",
    "        self.image_list = {'train': Train_image_list, 'val': Test_image_list}\n",
    "        self.losses = {phase: [] for phase in self.phases}\n",
    "        self.criterion = torch.nn.L1Loss()\n",
    "        self.optimizer = optim.Adam(self.net.parameters(), lr=self.lr)\n",
    "        self.scheduler = ReduceLROnPlateau(self.optimizer, mode=\"min\", patience=3, verbose=True,factor = 0.5,min_lr = 1e-5)\n",
    "#         self.scheduler = torch.optim.lr_scheduler.CosineAnnealingLR(self.optimizer, T_max, eta_min=5e-5, last_epoch=-1)\n",
    "        self.net = self.net.to(self.device)\n",
    "        cudnn.benchmark = True\n",
    "        self.dataloaders = {\n",
    "            phase: provider(\n",
    "                phase=phase,\n",
    "                image_list = self.image_list[phase],\n",
    "                batch_size=self.batch_size\n",
    "            )\n",
    "            for phase in self.phases\n",
    "        }\n",
    "        self.losses = {phase: [] for phase in self.phases}\n",
    "        \n",
    "    def forward(self, images, targets):\n",
    "        images = images.to(self.device)\n",
    "        target = targets.to(self.device)\n",
    "        yaw, pitch, roll = self.net(images)  \n",
    "        loss_yaw = self.criterion(yaw, target[0])\n",
    "        loss_pitch = self.criterion(pitch, target[1])\n",
    "        loss_roll = self.criterion(roll, target[2])\n",
    "        loss_yaw = torch.mean(torch.stack([loss_pitch, loss_roll]))\n",
    "        return loss_yaw\n",
    "\n",
    "    def iterate(self, epoch, phase):\n",
    "        start = time.strftime(\"%H:%M:%S\")\n",
    "        print(f\"Starting epoch: {epoch} | phase: {phase} | ⏰: {start}\")\n",
    "        batch_size = self.batch_size\n",
    "        self.net.train(phase == \"train\")\n",
    "        dataloader = self.dataloaders[phase]\n",
    "        running_loss = 0.0\n",
    "        total_batches = len(dataloader)\n",
    "        tk0 = tqdm(dataloader, total=total_batches)\n",
    "        self.optimizer.zero_grad()\n",
    "        for itr, batch in enumerate(tk0): # replace `dataloader` with `tk0` for tqdm\n",
    "            images, targets = batch\n",
    "            loss= self.forward(images, targets)\n",
    "            loss = loss / self.accumulation_steps\n",
    "            if phase == \"train\":\n",
    "                loss.backward()\n",
    "                if (itr + 1 ) % self.accumulation_steps == 0:\n",
    "                    self.optimizer.step()\n",
    "                    self.optimizer.zero_grad()\n",
    "            running_loss += loss.item()\n",
    "#             outputs = outputs.detach().cpu()\n",
    "            tk0.set_postfix(loss=(running_loss / ((itr + 1))))\n",
    "        epoch_loss = (running_loss * self.accumulation_steps) / total_batches\n",
    "        torch.cuda.empty_cache()\n",
    "        print(f'loss:{epoch_loss}')\n",
    "        return epoch_loss\n",
    "\n",
    "    def train_end(self):\n",
    "        train_loss = self.losses[\"train\"]\n",
    "        val_loss = self.losses[\"val\"]\n",
    "        df_data=np.array([train_loss,val_loss]).T\n",
    "        df = pd.DataFrame(df_data,columns = ['train_loss','val_loss'])\n",
    "        df.to_csv(\"model-expand-att.csv\")\n",
    "\n",
    "    def start(self):\n",
    "        for epoch in range(self.num_epochs):\n",
    "            train_loss = self.iterate(epoch, \"train\")\n",
    "            self.losses[\"train\"].append(train_loss)\n",
    "            state = {\n",
    "                \"epoch\": epoch,\n",
    "                \"best_loss\": self.best_loss,\n",
    "                \"state_dict\": self.net.state_dict(),\n",
    "                \"optimizer\": self.optimizer.state_dict(),\n",
    "            }\n",
    "            with torch.no_grad():\n",
    "                val_loss = self.iterate(epoch, \"val\")\n",
    "                self.losses[\"val\"].append(val_loss)\n",
    "                self.scheduler.step(val_loss)\n",
    "            if val_loss < self.best_loss:\n",
    "                print(\"******** New optimal found, saving state ********\")\n",
    "                state[\"best_loss\"] = self.best_loss = val_loss\n",
    "                torch.save(state, \"./model-expand-att.pth\")\n",
    "            print()\n",
    "            self.train_end()    \n"
   ]
  },
  {
   "cell_type": "code",
   "execution_count": null,
   "metadata": {},
   "outputs": [],
   "source": []
  },
  {
   "cell_type": "code",
   "execution_count": 98,
   "metadata": {
    "colab": {
     "base_uri": "https://localhost:8080/",
     "height": 68
    },
    "colab_type": "code",
    "id": "ZdX3q9sfaTCj",
    "outputId": "c8025d63-16d8-4241-9aff-4332de756f28"
   },
   "outputs": [],
   "source": [
    "import sys\n",
    "sys.path.insert(0, 'EfficientNet-PyTorch/')"
   ]
  },
  {
   "cell_type": "code",
   "execution_count": 99,
   "metadata": {
    "colab": {},
    "colab_type": "code",
    "id": "ORxv1XeXaTFg"
   },
   "outputs": [],
   "source": [
    "from efficientnet_pytorch import EfficientNet"
   ]
  },
  {
   "cell_type": "code",
   "execution_count": 100,
   "metadata": {
    "colab": {
     "base_uri": "https://localhost:8080/",
     "height": 34
    },
    "colab_type": "code",
    "id": "o4YKLA_vaTI-",
    "outputId": "600ddaa8-d910-4b27-a667-829dbded56cf"
   },
   "outputs": [],
   "source": [
    "model = EfficientNet.from_name(\"efficientnet-b0\")#.from_pretrained('efficientnet-b0')"
   ]
  },
  {
   "cell_type": "code",
   "execution_count": 101,
   "metadata": {},
   "outputs": [],
   "source": [
    "pretrained_dict = torch.load('efficientnet-b0-355c32eb.pth')\n",
    "IncompatibleKeys = model.load_state_dict(pretrained_dict,strict = False)"
   ]
  },
  {
   "cell_type": "code",
   "execution_count": 106,
   "metadata": {},
   "outputs": [
    {
     "data": {
      "text/plain": [
       "odict_keys(['_conv_stem.weight', '_bn0.weight', '_bn0.bias', '_bn0.running_mean', '_bn0.running_var', '_bn0.num_batches_tracked', '_blocks.0._depthwise_conv.weight', '_blocks.0._bn1.weight', '_blocks.0._bn1.bias', '_blocks.0._bn1.running_mean', '_blocks.0._bn1.running_var', '_blocks.0._bn1.num_batches_tracked', '_blocks.0._se_reduce.weight', '_blocks.0._se_reduce.bias', '_blocks.0._se_expand.weight', '_blocks.0._se_expand.bias', '_blocks.0._project_conv.weight', '_blocks.0._bn2.weight', '_blocks.0._bn2.bias', '_blocks.0._bn2.running_mean', '_blocks.0._bn2.running_var', '_blocks.0._bn2.num_batches_tracked', '_blocks.1._expand_conv.weight', '_blocks.1._bn0.weight', '_blocks.1._bn0.bias', '_blocks.1._bn0.running_mean', '_blocks.1._bn0.running_var', '_blocks.1._bn0.num_batches_tracked', '_blocks.1._depthwise_conv.weight', '_blocks.1._bn1.weight', '_blocks.1._bn1.bias', '_blocks.1._bn1.running_mean', '_blocks.1._bn1.running_var', '_blocks.1._bn1.num_batches_tracked', '_blocks.1._se_reduce.weight', '_blocks.1._se_reduce.bias', '_blocks.1._se_expand.weight', '_blocks.1._se_expand.bias', '_blocks.1._project_conv.weight', '_blocks.1._bn2.weight', '_blocks.1._bn2.bias', '_blocks.1._bn2.running_mean', '_blocks.1._bn2.running_var', '_blocks.1._bn2.num_batches_tracked', '_blocks.2._expand_conv.weight', '_blocks.2._bn0.weight', '_blocks.2._bn0.bias', '_blocks.2._bn0.running_mean', '_blocks.2._bn0.running_var', '_blocks.2._bn0.num_batches_tracked', '_blocks.2._depthwise_conv.weight', '_blocks.2._bn1.weight', '_blocks.2._bn1.bias', '_blocks.2._bn1.running_mean', '_blocks.2._bn1.running_var', '_blocks.2._bn1.num_batches_tracked', '_blocks.2._se_reduce.weight', '_blocks.2._se_reduce.bias', '_blocks.2._se_expand.weight', '_blocks.2._se_expand.bias', '_blocks.2._project_conv.weight', '_blocks.2._bn2.weight', '_blocks.2._bn2.bias', '_blocks.2._bn2.running_mean', '_blocks.2._bn2.running_var', '_blocks.2._bn2.num_batches_tracked', '_blocks.3._expand_conv.weight', '_blocks.3._bn0.weight', '_blocks.3._bn0.bias', '_blocks.3._bn0.running_mean', '_blocks.3._bn0.running_var', '_blocks.3._bn0.num_batches_tracked', '_blocks.3._depthwise_conv.weight', '_blocks.3._bn1.weight', '_blocks.3._bn1.bias', '_blocks.3._bn1.running_mean', '_blocks.3._bn1.running_var', '_blocks.3._bn1.num_batches_tracked', '_blocks.3._se_reduce.weight', '_blocks.3._se_reduce.bias', '_blocks.3._se_expand.weight', '_blocks.3._se_expand.bias', '_blocks.3._project_conv.weight', '_blocks.3._bn2.weight', '_blocks.3._bn2.bias', '_blocks.3._bn2.running_mean', '_blocks.3._bn2.running_var', '_blocks.3._bn2.num_batches_tracked', '_blocks.4._expand_conv.weight', '_blocks.4._bn0.weight', '_blocks.4._bn0.bias', '_blocks.4._bn0.running_mean', '_blocks.4._bn0.running_var', '_blocks.4._bn0.num_batches_tracked', '_blocks.4._depthwise_conv.weight', '_blocks.4._bn1.weight', '_blocks.4._bn1.bias', '_blocks.4._bn1.running_mean', '_blocks.4._bn1.running_var', '_blocks.4._bn1.num_batches_tracked', '_blocks.4._se_reduce.weight', '_blocks.4._se_reduce.bias', '_blocks.4._se_expand.weight', '_blocks.4._se_expand.bias', '_blocks.4._project_conv.weight', '_blocks.4._bn2.weight', '_blocks.4._bn2.bias', '_blocks.4._bn2.running_mean', '_blocks.4._bn2.running_var', '_blocks.4._bn2.num_batches_tracked', '_blocks.5._expand_conv.weight', '_blocks.5._bn0.weight', '_blocks.5._bn0.bias', '_blocks.5._bn0.running_mean', '_blocks.5._bn0.running_var', '_blocks.5._bn0.num_batches_tracked', '_blocks.5._depthwise_conv.weight', '_blocks.5._bn1.weight', '_blocks.5._bn1.bias', '_blocks.5._bn1.running_mean', '_blocks.5._bn1.running_var', '_blocks.5._bn1.num_batches_tracked', '_blocks.5._se_reduce.weight', '_blocks.5._se_reduce.bias', '_blocks.5._se_expand.weight', '_blocks.5._se_expand.bias', '_blocks.5._project_conv.weight', '_blocks.5._bn2.weight', '_blocks.5._bn2.bias', '_blocks.5._bn2.running_mean', '_blocks.5._bn2.running_var', '_blocks.5._bn2.num_batches_tracked', '_blocks.6._expand_conv.weight', '_blocks.6._bn0.weight', '_blocks.6._bn0.bias', '_blocks.6._bn0.running_mean', '_blocks.6._bn0.running_var', '_blocks.6._bn0.num_batches_tracked', '_blocks.6._depthwise_conv.weight', '_blocks.6._bn1.weight', '_blocks.6._bn1.bias', '_blocks.6._bn1.running_mean', '_blocks.6._bn1.running_var', '_blocks.6._bn1.num_batches_tracked', '_blocks.6._se_reduce.weight', '_blocks.6._se_reduce.bias', '_blocks.6._se_expand.weight', '_blocks.6._se_expand.bias', '_blocks.6._project_conv.weight', '_blocks.6._bn2.weight', '_blocks.6._bn2.bias', '_blocks.6._bn2.running_mean', '_blocks.6._bn2.running_var', '_blocks.6._bn2.num_batches_tracked', '_blocks.7._expand_conv.weight', '_blocks.7._bn0.weight', '_blocks.7._bn0.bias', '_blocks.7._bn0.running_mean', '_blocks.7._bn0.running_var', '_blocks.7._bn0.num_batches_tracked', '_blocks.7._depthwise_conv.weight', '_blocks.7._bn1.weight', '_blocks.7._bn1.bias', '_blocks.7._bn1.running_mean', '_blocks.7._bn1.running_var', '_blocks.7._bn1.num_batches_tracked', '_blocks.7._se_reduce.weight', '_blocks.7._se_reduce.bias', '_blocks.7._se_expand.weight', '_blocks.7._se_expand.bias', '_blocks.7._project_conv.weight', '_blocks.7._bn2.weight', '_blocks.7._bn2.bias', '_blocks.7._bn2.running_mean', '_blocks.7._bn2.running_var', '_blocks.7._bn2.num_batches_tracked', '_blocks.8._expand_conv.weight', '_blocks.8._bn0.weight', '_blocks.8._bn0.bias', '_blocks.8._bn0.running_mean', '_blocks.8._bn0.running_var', '_blocks.8._bn0.num_batches_tracked', '_blocks.8._depthwise_conv.weight', '_blocks.8._bn1.weight', '_blocks.8._bn1.bias', '_blocks.8._bn1.running_mean', '_blocks.8._bn1.running_var', '_blocks.8._bn1.num_batches_tracked', '_blocks.8._se_reduce.weight', '_blocks.8._se_reduce.bias', '_blocks.8._se_expand.weight', '_blocks.8._se_expand.bias', '_blocks.8._project_conv.weight', '_blocks.8._bn2.weight', '_blocks.8._bn2.bias', '_blocks.8._bn2.running_mean', '_blocks.8._bn2.running_var', '_blocks.8._bn2.num_batches_tracked', '_blocks.9._expand_conv.weight', '_blocks.9._bn0.weight', '_blocks.9._bn0.bias', '_blocks.9._bn0.running_mean', '_blocks.9._bn0.running_var', '_blocks.9._bn0.num_batches_tracked', '_blocks.9._depthwise_conv.weight', '_blocks.9._bn1.weight', '_blocks.9._bn1.bias', '_blocks.9._bn1.running_mean', '_blocks.9._bn1.running_var', '_blocks.9._bn1.num_batches_tracked', '_blocks.9._se_reduce.weight', '_blocks.9._se_reduce.bias', '_blocks.9._se_expand.weight', '_blocks.9._se_expand.bias', '_blocks.9._project_conv.weight', '_blocks.9._bn2.weight', '_blocks.9._bn2.bias', '_blocks.9._bn2.running_mean', '_blocks.9._bn2.running_var', '_blocks.9._bn2.num_batches_tracked', '_blocks.10._expand_conv.weight', '_blocks.10._bn0.weight', '_blocks.10._bn0.bias', '_blocks.10._bn0.running_mean', '_blocks.10._bn0.running_var', '_blocks.10._bn0.num_batches_tracked', '_blocks.10._depthwise_conv.weight', '_blocks.10._bn1.weight', '_blocks.10._bn1.bias', '_blocks.10._bn1.running_mean', '_blocks.10._bn1.running_var', '_blocks.10._bn1.num_batches_tracked', '_blocks.10._se_reduce.weight', '_blocks.10._se_reduce.bias', '_blocks.10._se_expand.weight', '_blocks.10._se_expand.bias', '_blocks.10._project_conv.weight', '_blocks.10._bn2.weight', '_blocks.10._bn2.bias', '_blocks.10._bn2.running_mean', '_blocks.10._bn2.running_var', '_blocks.10._bn2.num_batches_tracked', '_blocks_p1.0._expand_conv.weight', '_blocks_p1.0._bn0.weight', '_blocks_p1.0._bn0.bias', '_blocks_p1.0._bn0.running_mean', '_blocks_p1.0._bn0.running_var', '_blocks_p1.0._bn0.num_batches_tracked', '_blocks_p1.0._depthwise_conv.weight', '_blocks_p1.0._bn1.weight', '_blocks_p1.0._bn1.bias', '_blocks_p1.0._bn1.running_mean', '_blocks_p1.0._bn1.running_var', '_blocks_p1.0._bn1.num_batches_tracked', '_blocks_p1.0._se_reduce.weight', '_blocks_p1.0._se_reduce.bias', '_blocks_p1.0._se_expand.weight', '_blocks_p1.0._se_expand.bias', '_blocks_p1.0._project_conv.weight', '_blocks_p1.0._bn2.weight', '_blocks_p1.0._bn2.bias', '_blocks_p1.0._bn2.running_mean', '_blocks_p1.0._bn2.running_var', '_blocks_p1.0._bn2.num_batches_tracked', '_blocks_p1.1._expand_conv.weight', '_blocks_p1.1._bn0.weight', '_blocks_p1.1._bn0.bias', '_blocks_p1.1._bn0.running_mean', '_blocks_p1.1._bn0.running_var', '_blocks_p1.1._bn0.num_batches_tracked', '_blocks_p1.1._depthwise_conv.weight', '_blocks_p1.1._bn1.weight', '_blocks_p1.1._bn1.bias', '_blocks_p1.1._bn1.running_mean', '_blocks_p1.1._bn1.running_var', '_blocks_p1.1._bn1.num_batches_tracked', '_blocks_p1.1._se_reduce.weight', '_blocks_p1.1._se_reduce.bias', '_blocks_p1.1._se_expand.weight', '_blocks_p1.1._se_expand.bias', '_blocks_p1.1._project_conv.weight', '_blocks_p1.1._bn2.weight', '_blocks_p1.1._bn2.bias', '_blocks_p1.1._bn2.running_mean', '_blocks_p1.1._bn2.running_var', '_blocks_p1.1._bn2.num_batches_tracked', '_blocks_p1.2._expand_conv.weight', '_blocks_p1.2._bn0.weight', '_blocks_p1.2._bn0.bias', '_blocks_p1.2._bn0.running_mean', '_blocks_p1.2._bn0.running_var', '_blocks_p1.2._bn0.num_batches_tracked', '_blocks_p1.2._depthwise_conv.weight', '_blocks_p1.2._bn1.weight', '_blocks_p1.2._bn1.bias', '_blocks_p1.2._bn1.running_mean', '_blocks_p1.2._bn1.running_var', '_blocks_p1.2._bn1.num_batches_tracked', '_blocks_p1.2._se_reduce.weight', '_blocks_p1.2._se_reduce.bias', '_blocks_p1.2._se_expand.weight', '_blocks_p1.2._se_expand.bias', '_blocks_p1.2._project_conv.weight', '_blocks_p1.2._bn2.weight', '_blocks_p1.2._bn2.bias', '_blocks_p1.2._bn2.running_mean', '_blocks_p1.2._bn2.running_var', '_blocks_p1.2._bn2.num_batches_tracked', '_blocks_p1.3._expand_conv.weight', '_blocks_p1.3._bn0.weight', '_blocks_p1.3._bn0.bias', '_blocks_p1.3._bn0.running_mean', '_blocks_p1.3._bn0.running_var', '_blocks_p1.3._bn0.num_batches_tracked', '_blocks_p1.3._depthwise_conv.weight', '_blocks_p1.3._bn1.weight', '_blocks_p1.3._bn1.bias', '_blocks_p1.3._bn1.running_mean', '_blocks_p1.3._bn1.running_var', '_blocks_p1.3._bn1.num_batches_tracked', '_blocks_p1.3._se_reduce.weight', '_blocks_p1.3._se_reduce.bias', '_blocks_p1.3._se_expand.weight', '_blocks_p1.3._se_expand.bias', '_blocks_p1.3._project_conv.weight', '_blocks_p1.3._bn2.weight', '_blocks_p1.3._bn2.bias', '_blocks_p1.3._bn2.running_mean', '_blocks_p1.3._bn2.running_var', '_blocks_p1.3._bn2.num_batches_tracked', '_blocks_p1.4._expand_conv.weight', '_blocks_p1.4._bn0.weight', '_blocks_p1.4._bn0.bias', '_blocks_p1.4._bn0.running_mean', '_blocks_p1.4._bn0.running_var', '_blocks_p1.4._bn0.num_batches_tracked', '_blocks_p1.4._depthwise_conv.weight', '_blocks_p1.4._bn1.weight', '_blocks_p1.4._bn1.bias', '_blocks_p1.4._bn1.running_mean', '_blocks_p1.4._bn1.running_var', '_blocks_p1.4._bn1.num_batches_tracked', '_blocks_p1.4._se_reduce.weight', '_blocks_p1.4._se_reduce.bias', '_blocks_p1.4._se_expand.weight', '_blocks_p1.4._se_expand.bias', '_blocks_p1.4._project_conv.weight', '_blocks_p1.4._bn2.weight', '_blocks_p1.4._bn2.bias', '_blocks_p1.4._bn2.running_mean', '_blocks_p1.4._bn2.running_var', '_blocks_p1.4._bn2.num_batches_tracked', '_blocks_p2.0._expand_conv.weight', '_blocks_p2.0._bn0.weight', '_blocks_p2.0._bn0.bias', '_blocks_p2.0._bn0.running_mean', '_blocks_p2.0._bn0.running_var', '_blocks_p2.0._bn0.num_batches_tracked', '_blocks_p2.0._depthwise_conv.weight', '_blocks_p2.0._bn1.weight', '_blocks_p2.0._bn1.bias', '_blocks_p2.0._bn1.running_mean', '_blocks_p2.0._bn1.running_var', '_blocks_p2.0._bn1.num_batches_tracked', '_blocks_p2.0._se_reduce.weight', '_blocks_p2.0._se_reduce.bias', '_blocks_p2.0._se_expand.weight', '_blocks_p2.0._se_expand.bias', '_blocks_p2.0._project_conv.weight', '_blocks_p2.0._bn2.weight', '_blocks_p2.0._bn2.bias', '_blocks_p2.0._bn2.running_mean', '_blocks_p2.0._bn2.running_var', '_blocks_p2.0._bn2.num_batches_tracked', '_blocks_p2.1._expand_conv.weight', '_blocks_p2.1._bn0.weight', '_blocks_p2.1._bn0.bias', '_blocks_p2.1._bn0.running_mean', '_blocks_p2.1._bn0.running_var', '_blocks_p2.1._bn0.num_batches_tracked', '_blocks_p2.1._depthwise_conv.weight', '_blocks_p2.1._bn1.weight', '_blocks_p2.1._bn1.bias', '_blocks_p2.1._bn1.running_mean', '_blocks_p2.1._bn1.running_var', '_blocks_p2.1._bn1.num_batches_tracked', '_blocks_p2.1._se_reduce.weight', '_blocks_p2.1._se_reduce.bias', '_blocks_p2.1._se_expand.weight', '_blocks_p2.1._se_expand.bias', '_blocks_p2.1._project_conv.weight', '_blocks_p2.1._bn2.weight', '_blocks_p2.1._bn2.bias', '_blocks_p2.1._bn2.running_mean', '_blocks_p2.1._bn2.running_var', '_blocks_p2.1._bn2.num_batches_tracked', '_blocks_p2.2._expand_conv.weight', '_blocks_p2.2._bn0.weight', '_blocks_p2.2._bn0.bias', '_blocks_p2.2._bn0.running_mean', '_blocks_p2.2._bn0.running_var', '_blocks_p2.2._bn0.num_batches_tracked', '_blocks_p2.2._depthwise_conv.weight', '_blocks_p2.2._bn1.weight', '_blocks_p2.2._bn1.bias', '_blocks_p2.2._bn1.running_mean', '_blocks_p2.2._bn1.running_var', '_blocks_p2.2._bn1.num_batches_tracked', '_blocks_p2.2._se_reduce.weight', '_blocks_p2.2._se_reduce.bias', '_blocks_p2.2._se_expand.weight', '_blocks_p2.2._se_expand.bias', '_blocks_p2.2._project_conv.weight', '_blocks_p2.2._bn2.weight', '_blocks_p2.2._bn2.bias', '_blocks_p2.2._bn2.running_mean', '_blocks_p2.2._bn2.running_var', '_blocks_p2.2._bn2.num_batches_tracked', '_blocks_p2.3._expand_conv.weight', '_blocks_p2.3._bn0.weight', '_blocks_p2.3._bn0.bias', '_blocks_p2.3._bn0.running_mean', '_blocks_p2.3._bn0.running_var', '_blocks_p2.3._bn0.num_batches_tracked', '_blocks_p2.3._depthwise_conv.weight', '_blocks_p2.3._bn1.weight', '_blocks_p2.3._bn1.bias', '_blocks_p2.3._bn1.running_mean', '_blocks_p2.3._bn1.running_var', '_blocks_p2.3._bn1.num_batches_tracked', '_blocks_p2.3._se_reduce.weight', '_blocks_p2.3._se_reduce.bias', '_blocks_p2.3._se_expand.weight', '_blocks_p2.3._se_expand.bias', '_blocks_p2.3._project_conv.weight', '_blocks_p2.3._bn2.weight', '_blocks_p2.3._bn2.bias', '_blocks_p2.3._bn2.running_mean', '_blocks_p2.3._bn2.running_var', '_blocks_p2.3._bn2.num_batches_tracked', '_blocks_p2.4._expand_conv.weight', '_blocks_p2.4._bn0.weight', '_blocks_p2.4._bn0.bias', '_blocks_p2.4._bn0.running_mean', '_blocks_p2.4._bn0.running_var', '_blocks_p2.4._bn0.num_batches_tracked', '_blocks_p2.4._depthwise_conv.weight', '_blocks_p2.4._bn1.weight', '_blocks_p2.4._bn1.bias', '_blocks_p2.4._bn1.running_mean', '_blocks_p2.4._bn1.running_var', '_blocks_p2.4._bn1.num_batches_tracked', '_blocks_p2.4._se_reduce.weight', '_blocks_p2.4._se_reduce.bias', '_blocks_p2.4._se_expand.weight', '_blocks_p2.4._se_expand.bias', '_blocks_p2.4._project_conv.weight', '_blocks_p2.4._bn2.weight', '_blocks_p2.4._bn2.bias', '_blocks_p2.4._bn2.running_mean', '_blocks_p2.4._bn2.running_var', '_blocks_p2.4._bn2.num_batches_tracked', '_blocks_p3.0._expand_conv.weight', '_blocks_p3.0._bn0.weight', '_blocks_p3.0._bn0.bias', '_blocks_p3.0._bn0.running_mean', '_blocks_p3.0._bn0.running_var', '_blocks_p3.0._bn0.num_batches_tracked', '_blocks_p3.0._depthwise_conv.weight', '_blocks_p3.0._bn1.weight', '_blocks_p3.0._bn1.bias', '_blocks_p3.0._bn1.running_mean', '_blocks_p3.0._bn1.running_var', '_blocks_p3.0._bn1.num_batches_tracked', '_blocks_p3.0._se_reduce.weight', '_blocks_p3.0._se_reduce.bias', '_blocks_p3.0._se_expand.weight', '_blocks_p3.0._se_expand.bias', '_blocks_p3.0._project_conv.weight', '_blocks_p3.0._bn2.weight', '_blocks_p3.0._bn2.bias', '_blocks_p3.0._bn2.running_mean', '_blocks_p3.0._bn2.running_var', '_blocks_p3.0._bn2.num_batches_tracked', '_blocks_p3.1._expand_conv.weight', '_blocks_p3.1._bn0.weight', '_blocks_p3.1._bn0.bias', '_blocks_p3.1._bn0.running_mean', '_blocks_p3.1._bn0.running_var', '_blocks_p3.1._bn0.num_batches_tracked', '_blocks_p3.1._depthwise_conv.weight', '_blocks_p3.1._bn1.weight', '_blocks_p3.1._bn1.bias', '_blocks_p3.1._bn1.running_mean', '_blocks_p3.1._bn1.running_var', '_blocks_p3.1._bn1.num_batches_tracked', '_blocks_p3.1._se_reduce.weight', '_blocks_p3.1._se_reduce.bias', '_blocks_p3.1._se_expand.weight', '_blocks_p3.1._se_expand.bias', '_blocks_p3.1._project_conv.weight', '_blocks_p3.1._bn2.weight', '_blocks_p3.1._bn2.bias', '_blocks_p3.1._bn2.running_mean', '_blocks_p3.1._bn2.running_var', '_blocks_p3.1._bn2.num_batches_tracked', '_blocks_p3.2._expand_conv.weight', '_blocks_p3.2._bn0.weight', '_blocks_p3.2._bn0.bias', '_blocks_p3.2._bn0.running_mean', '_blocks_p3.2._bn0.running_var', '_blocks_p3.2._bn0.num_batches_tracked', '_blocks_p3.2._depthwise_conv.weight', '_blocks_p3.2._bn1.weight', '_blocks_p3.2._bn1.bias', '_blocks_p3.2._bn1.running_mean', '_blocks_p3.2._bn1.running_var', '_blocks_p3.2._bn1.num_batches_tracked', '_blocks_p3.2._se_reduce.weight', '_blocks_p3.2._se_reduce.bias', '_blocks_p3.2._se_expand.weight', '_blocks_p3.2._se_expand.bias', '_blocks_p3.2._project_conv.weight', '_blocks_p3.2._bn2.weight', '_blocks_p3.2._bn2.bias', '_blocks_p3.2._bn2.running_mean', '_blocks_p3.2._bn2.running_var', '_blocks_p3.2._bn2.num_batches_tracked', '_blocks_p3.3._expand_conv.weight', '_blocks_p3.3._bn0.weight', '_blocks_p3.3._bn0.bias', '_blocks_p3.3._bn0.running_mean', '_blocks_p3.3._bn0.running_var', '_blocks_p3.3._bn0.num_batches_tracked', '_blocks_p3.3._depthwise_conv.weight', '_blocks_p3.3._bn1.weight', '_blocks_p3.3._bn1.bias', '_blocks_p3.3._bn1.running_mean', '_blocks_p3.3._bn1.running_var', '_blocks_p3.3._bn1.num_batches_tracked', '_blocks_p3.3._se_reduce.weight', '_blocks_p3.3._se_reduce.bias', '_blocks_p3.3._se_expand.weight', '_blocks_p3.3._se_expand.bias', '_blocks_p3.3._project_conv.weight', '_blocks_p3.3._bn2.weight', '_blocks_p3.3._bn2.bias', '_blocks_p3.3._bn2.running_mean', '_blocks_p3.3._bn2.running_var', '_blocks_p3.3._bn2.num_batches_tracked', '_blocks_p3.4._expand_conv.weight', '_blocks_p3.4._bn0.weight', '_blocks_p3.4._bn0.bias', '_blocks_p3.4._bn0.running_mean', '_blocks_p3.4._bn0.running_var', '_blocks_p3.4._bn0.num_batches_tracked', '_blocks_p3.4._depthwise_conv.weight', '_blocks_p3.4._bn1.weight', '_blocks_p3.4._bn1.bias', '_blocks_p3.4._bn1.running_mean', '_blocks_p3.4._bn1.running_var', '_blocks_p3.4._bn1.num_batches_tracked', '_blocks_p3.4._se_reduce.weight', '_blocks_p3.4._se_reduce.bias', '_blocks_p3.4._se_expand.weight', '_blocks_p3.4._se_expand.bias', '_blocks_p3.4._project_conv.weight', '_blocks_p3.4._bn2.weight', '_blocks_p3.4._bn2.bias', '_blocks_p3.4._bn2.running_mean', '_blocks_p3.4._bn2.running_var', '_blocks_p3.4._bn2.num_batches_tracked', '_conv_head_p1.weight', '_bn1_p1.weight', '_bn1_p1.bias', '_bn1_p1.running_mean', '_bn1_p1.running_var', '_bn1_p1.num_batches_tracked', '_conv_head_p2.weight', '_bn1_p2.weight', '_bn1_p2.bias', '_bn1_p2.running_mean', '_bn1_p2.running_var', '_bn1_p2.num_batches_tracked', '_conv_head_p3.weight', '_bn1_p3.weight', '_bn1_p3.bias', '_bn1_p3.running_mean', '_bn1_p3.running_var', '_bn1_p3.num_batches_tracked', '_fc_p1.weight', '_fc_p1.bias', '_fc_p2.weight', '_fc_p2.bias', '_fc_p3.weight', '_fc_p3.bias'])"
      ]
     },
     "execution_count": 106,
     "metadata": {},
     "output_type": "execute_result"
    }
   ],
   "source": [
    "model.state_dict().keys()"
   ]
  },
  {
   "cell_type": "code",
   "execution_count": 103,
   "metadata": {
    "colab": {},
    "colab_type": "code",
    "id": "wk5Mro1IaTL_"
   },
   "outputs": [],
   "source": [
    "num_ftrs = model._fc_p1.in_features\n",
    "model._fc_p1 = nn.Linear(num_ftrs, 1)\n",
    "model._fc_p2 = nn.Linear(num_ftrs, 1)\n",
    "model._fc_p3 = nn.Linear(num_ftrs, 1)"
   ]
  },
  {
   "cell_type": "code",
   "execution_count": null,
   "metadata": {
    "colab": {
     "base_uri": "https://localhost:8080/",
     "height": 66,
     "referenced_widgets": [
      "5a54c91af3284933b49500e63b1ed262",
      "8efc7db7a0794e1e8d6e6cc6ed6e1f23",
      "ba0b2918c2304cd784f39b59617217fd",
      "29f764bb5285483d897fed9afd3f2d9b",
      "9cdaec13f8a84b658ec5ac5a6a5852cd",
      "ea3e1e004bc747fc893f641306d532cf",
      "ef45c53e92eb4d7daac3280fde01d09d",
      "3a1f958fbaa04dc494b0fa98518d0d3d"
     ]
    },
    "colab_type": "code",
    "id": "EsIuWurbaTPG",
    "outputId": "29832333-e230-46dc-9f7b-401dba431670"
   },
   "outputs": [
    {
     "name": "stdout",
     "output_type": "stream",
     "text": [
      "Starting epoch: 0 | phase: train | ⏰: 18:19:18\n"
     ]
    },
    {
     "name": "stderr",
     "output_type": "stream",
     "text": [
      "/home/aryan/anaconda3/lib/python3.7/site-packages/ipykernel_launcher.py:49: TqdmDeprecationWarning: This function will be removed in tqdm==5.0.0\n",
      "Please use `tqdm.notebook.tqdm` instead of `tqdm.tqdm_notebook`\n"
     ]
    },
    {
     "data": {
      "application/vnd.jupyter.widget-view+json": {
       "model_id": "b8436689e033436fae099b1abaded68a",
       "version_major": 2,
       "version_minor": 0
      },
      "text/plain": [
       "HBox(children=(FloatProgress(value=0.0, max=3827.0), HTML(value='')))"
      ]
     },
     "metadata": {},
     "output_type": "display_data"
    }
   ],
   "source": [
    "model_trainer = Trainer(model, TrainImagesPath, TestImagesPath,  32,1e-2,5)\n",
    "model_trainer.start()"
   ]
  },
  {
   "cell_type": "code",
   "execution_count": null,
   "metadata": {},
   "outputs": [],
   "source": []
  },
  {
   "cell_type": "code",
   "execution_count": null,
   "metadata": {},
   "outputs": [],
   "source": []
  },
  {
   "cell_type": "code",
   "execution_count": null,
   "metadata": {},
   "outputs": [],
   "source": []
  },
  {
   "cell_type": "code",
   "execution_count": null,
   "metadata": {},
   "outputs": [],
   "source": []
  },
  {
   "cell_type": "code",
   "execution_count": null,
   "metadata": {},
   "outputs": [],
   "source": []
  },
  {
   "cell_type": "code",
   "execution_count": null,
   "metadata": {},
   "outputs": [],
   "source": []
  }
 ],
 "metadata": {
  "accelerator": "GPU",
  "colab": {
   "collapsed_sections": [],
   "name": "Headpose_300wlp(Train)_AFLW(Test).ipynb",
   "provenance": []
  },
  "kernelspec": {
   "display_name": "Python 3",
   "language": "python",
   "name": "python3"
  },
  "language_info": {
   "codemirror_mode": {
    "name": "ipython",
    "version": 3
   },
   "file_extension": ".py",
   "mimetype": "text/x-python",
   "name": "python",
   "nbconvert_exporter": "python",
   "pygments_lexer": "ipython3",
   "version": "3.7.3"
  },
  "widgets": {
   "application/vnd.jupyter.widget-state+json": {
    "29f764bb5285483d897fed9afd3f2d9b": {
     "model_module": "@jupyter-widgets/controls",
     "model_name": "HTMLModel",
     "state": {
      "_dom_classes": [],
      "_model_module": "@jupyter-widgets/controls",
      "_model_module_version": "1.5.0",
      "_model_name": "HTMLModel",
      "_view_count": null,
      "_view_module": "@jupyter-widgets/controls",
      "_view_module_version": "1.5.0",
      "_view_name": "HTMLView",
      "description": "",
      "description_tooltip": null,
      "layout": "IPY_MODEL_3a1f958fbaa04dc494b0fa98518d0d3d",
      "placeholder": "​",
      "style": "IPY_MODEL_ef45c53e92eb4d7daac3280fde01d09d",
      "value": " 27% 2095/7654 [19:59&lt;52:29,  1.77it/s, loss=3.1]"
     }
    },
    "3a1f958fbaa04dc494b0fa98518d0d3d": {
     "model_module": "@jupyter-widgets/base",
     "model_name": "LayoutModel",
     "state": {
      "_model_module": "@jupyter-widgets/base",
      "_model_module_version": "1.2.0",
      "_model_name": "LayoutModel",
      "_view_count": null,
      "_view_module": "@jupyter-widgets/base",
      "_view_module_version": "1.2.0",
      "_view_name": "LayoutView",
      "align_content": null,
      "align_items": null,
      "align_self": null,
      "border": null,
      "bottom": null,
      "display": null,
      "flex": null,
      "flex_flow": null,
      "grid_area": null,
      "grid_auto_columns": null,
      "grid_auto_flow": null,
      "grid_auto_rows": null,
      "grid_column": null,
      "grid_gap": null,
      "grid_row": null,
      "grid_template_areas": null,
      "grid_template_columns": null,
      "grid_template_rows": null,
      "height": null,
      "justify_content": null,
      "justify_items": null,
      "left": null,
      "margin": null,
      "max_height": null,
      "max_width": null,
      "min_height": null,
      "min_width": null,
      "object_fit": null,
      "object_position": null,
      "order": null,
      "overflow": null,
      "overflow_x": null,
      "overflow_y": null,
      "padding": null,
      "right": null,
      "top": null,
      "visibility": null,
      "width": null
     }
    },
    "5a54c91af3284933b49500e63b1ed262": {
     "model_module": "@jupyter-widgets/controls",
     "model_name": "HBoxModel",
     "state": {
      "_dom_classes": [],
      "_model_module": "@jupyter-widgets/controls",
      "_model_module_version": "1.5.0",
      "_model_name": "HBoxModel",
      "_view_count": null,
      "_view_module": "@jupyter-widgets/controls",
      "_view_module_version": "1.5.0",
      "_view_name": "HBoxView",
      "box_style": "",
      "children": [
       "IPY_MODEL_ba0b2918c2304cd784f39b59617217fd",
       "IPY_MODEL_29f764bb5285483d897fed9afd3f2d9b"
      ],
      "layout": "IPY_MODEL_8efc7db7a0794e1e8d6e6cc6ed6e1f23"
     }
    },
    "8efc7db7a0794e1e8d6e6cc6ed6e1f23": {
     "model_module": "@jupyter-widgets/base",
     "model_name": "LayoutModel",
     "state": {
      "_model_module": "@jupyter-widgets/base",
      "_model_module_version": "1.2.0",
      "_model_name": "LayoutModel",
      "_view_count": null,
      "_view_module": "@jupyter-widgets/base",
      "_view_module_version": "1.2.0",
      "_view_name": "LayoutView",
      "align_content": null,
      "align_items": null,
      "align_self": null,
      "border": null,
      "bottom": null,
      "display": null,
      "flex": null,
      "flex_flow": null,
      "grid_area": null,
      "grid_auto_columns": null,
      "grid_auto_flow": null,
      "grid_auto_rows": null,
      "grid_column": null,
      "grid_gap": null,
      "grid_row": null,
      "grid_template_areas": null,
      "grid_template_columns": null,
      "grid_template_rows": null,
      "height": null,
      "justify_content": null,
      "justify_items": null,
      "left": null,
      "margin": null,
      "max_height": null,
      "max_width": null,
      "min_height": null,
      "min_width": null,
      "object_fit": null,
      "object_position": null,
      "order": null,
      "overflow": null,
      "overflow_x": null,
      "overflow_y": null,
      "padding": null,
      "right": null,
      "top": null,
      "visibility": null,
      "width": null
     }
    },
    "9cdaec13f8a84b658ec5ac5a6a5852cd": {
     "model_module": "@jupyter-widgets/controls",
     "model_name": "ProgressStyleModel",
     "state": {
      "_model_module": "@jupyter-widgets/controls",
      "_model_module_version": "1.5.0",
      "_model_name": "ProgressStyleModel",
      "_view_count": null,
      "_view_module": "@jupyter-widgets/base",
      "_view_module_version": "1.2.0",
      "_view_name": "StyleView",
      "bar_color": null,
      "description_width": ""
     }
    },
    "ba0b2918c2304cd784f39b59617217fd": {
     "model_module": "@jupyter-widgets/controls",
     "model_name": "IntProgressModel",
     "state": {
      "_dom_classes": [],
      "_model_module": "@jupyter-widgets/controls",
      "_model_module_version": "1.5.0",
      "_model_name": "IntProgressModel",
      "_view_count": null,
      "_view_module": "@jupyter-widgets/controls",
      "_view_module_version": "1.5.0",
      "_view_name": "ProgressView",
      "bar_style": "",
      "description": "",
      "description_tooltip": null,
      "layout": "IPY_MODEL_ea3e1e004bc747fc893f641306d532cf",
      "max": 7654,
      "min": 0,
      "orientation": "horizontal",
      "style": "IPY_MODEL_9cdaec13f8a84b658ec5ac5a6a5852cd",
      "value": 2095
     }
    },
    "ea3e1e004bc747fc893f641306d532cf": {
     "model_module": "@jupyter-widgets/base",
     "model_name": "LayoutModel",
     "state": {
      "_model_module": "@jupyter-widgets/base",
      "_model_module_version": "1.2.0",
      "_model_name": "LayoutModel",
      "_view_count": null,
      "_view_module": "@jupyter-widgets/base",
      "_view_module_version": "1.2.0",
      "_view_name": "LayoutView",
      "align_content": null,
      "align_items": null,
      "align_self": null,
      "border": null,
      "bottom": null,
      "display": null,
      "flex": null,
      "flex_flow": null,
      "grid_area": null,
      "grid_auto_columns": null,
      "grid_auto_flow": null,
      "grid_auto_rows": null,
      "grid_column": null,
      "grid_gap": null,
      "grid_row": null,
      "grid_template_areas": null,
      "grid_template_columns": null,
      "grid_template_rows": null,
      "height": null,
      "justify_content": null,
      "justify_items": null,
      "left": null,
      "margin": null,
      "max_height": null,
      "max_width": null,
      "min_height": null,
      "min_width": null,
      "object_fit": null,
      "object_position": null,
      "order": null,
      "overflow": null,
      "overflow_x": null,
      "overflow_y": null,
      "padding": null,
      "right": null,
      "top": null,
      "visibility": null,
      "width": null
     }
    },
    "ef45c53e92eb4d7daac3280fde01d09d": {
     "model_module": "@jupyter-widgets/controls",
     "model_name": "DescriptionStyleModel",
     "state": {
      "_model_module": "@jupyter-widgets/controls",
      "_model_module_version": "1.5.0",
      "_model_name": "DescriptionStyleModel",
      "_view_count": null,
      "_view_module": "@jupyter-widgets/base",
      "_view_module_version": "1.2.0",
      "_view_name": "StyleView",
      "description_width": ""
     }
    }
   }
  }
 },
 "nbformat": 4,
 "nbformat_minor": 1
}
