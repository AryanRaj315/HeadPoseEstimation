{
  "nbformat": 4,
  "nbformat_minor": 0,
  "metadata": {
    "colab": {
      "name": "Headpose_300wlp",
      "provenance": [],
      "collapsed_sections": [],
      "toc_visible": true,
      "include_colab_link": true
    },
    "kernelspec": {
      "name": "python3",
      "display_name": "Python 3"
    },
    "accelerator": "GPU",
    "widgets": {
      "application/vnd.jupyter.widget-state+json": {
        "68e673bf89ee48c4bb4ecec4238bd0f7": {
          "model_module": "@jupyter-widgets/controls",
          "model_name": "HBoxModel",
          "state": {
            "_view_name": "HBoxView",
            "_dom_classes": [],
            "_model_name": "HBoxModel",
            "_view_module": "@jupyter-widgets/controls",
            "_model_module_version": "1.5.0",
            "_view_count": null,
            "_view_module_version": "1.5.0",
            "box_style": "",
            "layout": "IPY_MODEL_f8c8707c7b4d4887aee08bddeb1bdf4f",
            "_model_module": "@jupyter-widgets/controls",
            "children": [
              "IPY_MODEL_c23c278f3e1647afba6aae344c713059",
              "IPY_MODEL_972f9b77a5b2410eb9cbdf39b1b14cf5"
            ]
          }
        },
        "f8c8707c7b4d4887aee08bddeb1bdf4f": {
          "model_module": "@jupyter-widgets/base",
          "model_name": "LayoutModel",
          "state": {
            "_view_name": "LayoutView",
            "grid_template_rows": null,
            "right": null,
            "justify_content": null,
            "_view_module": "@jupyter-widgets/base",
            "overflow": null,
            "_model_module_version": "1.2.0",
            "_view_count": null,
            "flex_flow": null,
            "width": null,
            "min_width": null,
            "border": null,
            "align_items": null,
            "bottom": null,
            "_model_module": "@jupyter-widgets/base",
            "top": null,
            "grid_column": null,
            "overflow_y": null,
            "overflow_x": null,
            "grid_auto_flow": null,
            "grid_area": null,
            "grid_template_columns": null,
            "flex": null,
            "_model_name": "LayoutModel",
            "justify_items": null,
            "grid_row": null,
            "max_height": null,
            "align_content": null,
            "visibility": null,
            "align_self": null,
            "height": null,
            "min_height": null,
            "padding": null,
            "grid_auto_rows": null,
            "grid_gap": null,
            "max_width": null,
            "order": null,
            "_view_module_version": "1.2.0",
            "grid_template_areas": null,
            "object_position": null,
            "object_fit": null,
            "grid_auto_columns": null,
            "margin": null,
            "display": null,
            "left": null
          }
        },
        "c23c278f3e1647afba6aae344c713059": {
          "model_module": "@jupyter-widgets/controls",
          "model_name": "IntProgressModel",
          "state": {
            "_view_name": "ProgressView",
            "style": "IPY_MODEL_fe9d5034c2c84edd97092615ab4e8821",
            "_dom_classes": [],
            "description": "",
            "_model_name": "IntProgressModel",
            "bar_style": "",
            "max": 6998,
            "_view_module": "@jupyter-widgets/controls",
            "_model_module_version": "1.5.0",
            "value": 1054,
            "_view_count": null,
            "_view_module_version": "1.5.0",
            "orientation": "horizontal",
            "min": 0,
            "description_tooltip": null,
            "_model_module": "@jupyter-widgets/controls",
            "layout": "IPY_MODEL_1aab79d1dcf34f229fc9afaa52394181"
          }
        },
        "972f9b77a5b2410eb9cbdf39b1b14cf5": {
          "model_module": "@jupyter-widgets/controls",
          "model_name": "HTMLModel",
          "state": {
            "_view_name": "HTMLView",
            "style": "IPY_MODEL_0fa232f821eb4ab68341240c0feabb4a",
            "_dom_classes": [],
            "description": "",
            "_model_name": "HTMLModel",
            "placeholder": "​",
            "_view_module": "@jupyter-widgets/controls",
            "_model_module_version": "1.5.0",
            "value": " 15% 1054/6998 [30:14&lt;2:49:55,  1.72s/it, loss=4.29]",
            "_view_count": null,
            "_view_module_version": "1.5.0",
            "description_tooltip": null,
            "_model_module": "@jupyter-widgets/controls",
            "layout": "IPY_MODEL_ad2f33cac8d843a0abe77f8c0c2e364a"
          }
        },
        "fe9d5034c2c84edd97092615ab4e8821": {
          "model_module": "@jupyter-widgets/controls",
          "model_name": "ProgressStyleModel",
          "state": {
            "_view_name": "StyleView",
            "_model_name": "ProgressStyleModel",
            "description_width": "",
            "_view_module": "@jupyter-widgets/base",
            "_model_module_version": "1.5.0",
            "_view_count": null,
            "_view_module_version": "1.2.0",
            "bar_color": null,
            "_model_module": "@jupyter-widgets/controls"
          }
        },
        "1aab79d1dcf34f229fc9afaa52394181": {
          "model_module": "@jupyter-widgets/base",
          "model_name": "LayoutModel",
          "state": {
            "_view_name": "LayoutView",
            "grid_template_rows": null,
            "right": null,
            "justify_content": null,
            "_view_module": "@jupyter-widgets/base",
            "overflow": null,
            "_model_module_version": "1.2.0",
            "_view_count": null,
            "flex_flow": null,
            "width": null,
            "min_width": null,
            "border": null,
            "align_items": null,
            "bottom": null,
            "_model_module": "@jupyter-widgets/base",
            "top": null,
            "grid_column": null,
            "overflow_y": null,
            "overflow_x": null,
            "grid_auto_flow": null,
            "grid_area": null,
            "grid_template_columns": null,
            "flex": null,
            "_model_name": "LayoutModel",
            "justify_items": null,
            "grid_row": null,
            "max_height": null,
            "align_content": null,
            "visibility": null,
            "align_self": null,
            "height": null,
            "min_height": null,
            "padding": null,
            "grid_auto_rows": null,
            "grid_gap": null,
            "max_width": null,
            "order": null,
            "_view_module_version": "1.2.0",
            "grid_template_areas": null,
            "object_position": null,
            "object_fit": null,
            "grid_auto_columns": null,
            "margin": null,
            "display": null,
            "left": null
          }
        },
        "0fa232f821eb4ab68341240c0feabb4a": {
          "model_module": "@jupyter-widgets/controls",
          "model_name": "DescriptionStyleModel",
          "state": {
            "_view_name": "StyleView",
            "_model_name": "DescriptionStyleModel",
            "description_width": "",
            "_view_module": "@jupyter-widgets/base",
            "_model_module_version": "1.5.0",
            "_view_count": null,
            "_view_module_version": "1.2.0",
            "_model_module": "@jupyter-widgets/controls"
          }
        },
        "ad2f33cac8d843a0abe77f8c0c2e364a": {
          "model_module": "@jupyter-widgets/base",
          "model_name": "LayoutModel",
          "state": {
            "_view_name": "LayoutView",
            "grid_template_rows": null,
            "right": null,
            "justify_content": null,
            "_view_module": "@jupyter-widgets/base",
            "overflow": null,
            "_model_module_version": "1.2.0",
            "_view_count": null,
            "flex_flow": null,
            "width": null,
            "min_width": null,
            "border": null,
            "align_items": null,
            "bottom": null,
            "_model_module": "@jupyter-widgets/base",
            "top": null,
            "grid_column": null,
            "overflow_y": null,
            "overflow_x": null,
            "grid_auto_flow": null,
            "grid_area": null,
            "grid_template_columns": null,
            "flex": null,
            "_model_name": "LayoutModel",
            "justify_items": null,
            "grid_row": null,
            "max_height": null,
            "align_content": null,
            "visibility": null,
            "align_self": null,
            "height": null,
            "min_height": null,
            "padding": null,
            "grid_auto_rows": null,
            "grid_gap": null,
            "max_width": null,
            "order": null,
            "_view_module_version": "1.2.0",
            "grid_template_areas": null,
            "object_position": null,
            "object_fit": null,
            "grid_auto_columns": null,
            "margin": null,
            "display": null,
            "left": null
          }
        }
      }
    }
  },
  "cells": [
    {
      "cell_type": "markdown",
      "metadata": {
        "id": "view-in-github",
        "colab_type": "text"
      },
      "source": [
        "<a href=\"https://colab.research.google.com/github/AryanRaj315/HeadPoseEstimation/blob/master/Headpose_300wlp.ipynb\" target=\"_parent\"><img src=\"https://colab.research.google.com/assets/colab-badge.svg\" alt=\"Open In Colab\"/></a>"
      ]
    },
    {
      "cell_type": "markdown",
      "metadata": {
        "id": "9Pb3uZISAHxk",
        "colab_type": "text"
      },
      "source": [
        "# Run Once"
      ]
    },
    {
      "cell_type": "code",
      "metadata": {
        "id": "IryROr9SmZTe",
        "colab_type": "code",
        "colab": {}
      },
      "source": [
        "# from google.colab import drive\n",
        "# drive.mount('/content/drive')"
      ],
      "execution_count": 0,
      "outputs": []
    },
    {
      "cell_type": "markdown",
      "metadata": {
        "id": "hC4afLsOaE0-",
        "colab_type": "text"
      },
      "source": [
        "Extracting the .zip file "
      ]
    },
    {
      "cell_type": "code",
      "metadata": {
        "id": "jnBw54DqfvMV",
        "colab_type": "code",
        "colab": {}
      },
      "source": [
        "# !unzip -qq '/content/drive/My Drive/300W-LP.zip'"
      ],
      "execution_count": 0,
      "outputs": []
    },
    {
      "cell_type": "markdown",
      "metadata": {
        "id": "ZfjLcphiY20p",
        "colab_type": "text"
      },
      "source": [
        "# Getting the dataset and installing necessary libraries"
      ]
    },
    {
      "cell_type": "code",
      "metadata": {
        "id": "d5JmXRWwfDjN",
        "colab_type": "code",
        "colab": {}
      },
      "source": [
        "import os\n",
        "import cv2\n",
        "from math import atan2, asin \n",
        "import numpy as np\n",
        "import pandas as pd\n",
        "import dlib\n",
        "import math\n",
        "import matplotlib.pyplot as plt\n",
        "from tqdm import tqdm_notebook as tqdm\n",
        "from torch.utils.data import DataLoader, Dataset, sampler\n",
        "from torch.optim.lr_scheduler import ReduceLROnPlateau\n",
        "from albumentations.pytorch import ToTensor\n",
        "from albumentations import (HorizontalFlip, ShiftScaleRotate, Normalize, Resize, Compose, GaussNoise)\n",
        "import torch\n",
        "from torchvision import transforms\n",
        "import torch.nn as nn\n",
        "from torch.nn import functional as F\n",
        "import torch.optim as optim\n",
        "import torch.backends.cudnn as cudnn\n",
        "import torchvision.models as models\n",
        "import time\n",
        "import scipy.io"
      ],
      "execution_count": 0,
      "outputs": []
    },
    {
      "cell_type": "markdown",
      "metadata": {
        "id": "yzmazpEIZIqP",
        "colab_type": "text"
      },
      "source": [
        "# Useful functions"
      ]
    },
    {
      "cell_type": "markdown",
      "metadata": {
        "id": "IowtBOkKcJGs",
        "colab_type": "text"
      },
      "source": [
        "Function to get the path"
      ]
    },
    {
      "cell_type": "code",
      "metadata": {
        "id": "pk0MxqldjQYH",
        "colab_type": "code",
        "colab": {}
      },
      "source": [
        "def PathList(path):\n",
        "  Img_Path = []\n",
        "  for root, dirs, files in os.walk(path, topdown=False):\n",
        "      for filename in files:\n",
        "        if(filename[-3:] == 'jpg'):\n",
        "          Img_Path.append(root+'/'+filename)\n",
        "  return Img_Path        "
      ],
      "execution_count": 0,
      "outputs": []
    },
    {
      "cell_type": "markdown",
      "metadata": {
        "id": "BMEeRsYkZe34",
        "colab_type": "text"
      },
      "source": [
        "Here ImagesPath is a list that contains all the .png files from the dataset"
      ]
    },
    {
      "cell_type": "code",
      "metadata": {
        "id": "asB6nok3Zdx6",
        "colab_type": "code",
        "colab": {}
      },
      "source": [
        "ImagesPath = PathList(\"300W_LP/\")"
      ],
      "execution_count": 0,
      "outputs": []
    },
    {
      "cell_type": "code",
      "metadata": {
        "id": "9nBKxXKlg7jj",
        "colab_type": "code",
        "outputId": "b5088a7c-d05a-4a7b-cf71-9f3ddcdd4b6c",
        "colab": {
          "base_uri": "https://localhost:8080/",
          "height": 34
        }
      },
      "source": [
        "len(ImagesPath)"
      ],
      "execution_count": 6,
      "outputs": [
        {
          "output_type": "execute_result",
          "data": {
            "text/plain": [
              "122450"
            ]
          },
          "metadata": {
            "tags": []
          },
          "execution_count": 6
        }
      ]
    },
    {
      "cell_type": "markdown",
      "metadata": {
        "id": "Btbc9Ol-Zni2",
        "colab_type": "text"
      },
      "source": [
        "This function is used to convert the transformation matrix from \n",
        "all the .txt files to Yaw, Pitch and Roll "
      ]
    },
    {
      "cell_type": "code",
      "metadata": {
        "id": "EHZrxlFBZWYK",
        "colab_type": "code",
        "colab": {}
      },
      "source": [
        "def getAngles(path):\n",
        "    mat = scipy.io.loadmat(path)\n",
        "    angle_mat = mat['Pose_Para'][0]\n",
        "    roll = angle_mat[0]*180/math.pi\n",
        "    pitch = angle_mat[1]*180/math.pi\n",
        "    yaw = angle_mat[2]*180/math.pi\n",
        "    return np.array([yaw, pitch, roll]) "
      ],
      "execution_count": 0,
      "outputs": []
    },
    {
      "cell_type": "markdown",
      "metadata": {
        "id": "AqjPRxQg7V4h",
        "colab_type": "text"
      },
      "source": [
        "# Dataset Class"
      ]
    },
    {
      "cell_type": "code",
      "metadata": {
        "id": "9oMnTqGGiZ4W",
        "colab_type": "code",
        "colab": {}
      },
      "source": [
        "class WLP300Dataset(Dataset):\n",
        "    def __init__(self, image_path_list, phase):\n",
        "        self.phase = phase\n",
        "        self.transform = ToTensor()\n",
        "        self.path = image_path_list\n",
        "        self.train = image_path_list[:int(len(image_path_list)*0.8)]\n",
        "        self.val = image_path_list[int(len(image_path_list)*0.8):]\n",
        "\n",
        "    def __getitem__(self, idx):\n",
        "        if(self.phase == 'train'):\n",
        "          Image = cv2.imread(self.train[idx])\n",
        "          Angle = getAngles(self.train[idx][:-3]+'mat')\n",
        "        elif(self.phase == 'val'):\n",
        "          Image = cv2.imread(self.val[idx])\n",
        "          Angle = getAngles(self.val[idx][:-3]+'mat')\n",
        "        Image = cv2.resize(Image,(450,450))\n",
        "        Image = Image.transpose(2,0,1)  # Making Channel First \n",
        "        Image = torch.from_numpy(Image).type(torch.FloatTensor)\n",
        "        Angle = torch.from_numpy(Angle).type(torch.FloatTensor)  \n",
        "        return Image, Angle\n",
        "\n",
        "    def __len__(self):\n",
        "        if self.phase == 'train':\n",
        "            return len(self.train)\n",
        "        else:\n",
        "            return len(self.val)"
      ],
      "execution_count": 0,
      "outputs": []
    },
    {
      "cell_type": "markdown",
      "metadata": {
        "id": "WmlOBO6f7d1i",
        "colab_type": "text"
      },
      "source": [
        "This function provides the training and validation dataloader accordingly"
      ]
    },
    {
      "cell_type": "code",
      "metadata": {
        "id": "tJo17moB8K8F",
        "colab_type": "code",
        "colab": {}
      },
      "source": [
        "def provider(phase, image_list,  batch_size=8, num_workers=0):    \n",
        "    image_dataset = WLP300Dataset(image_list, phase)\n",
        "    dataloader = DataLoader(\n",
        "        image_dataset,\n",
        "        batch_size=batch_size,\n",
        "        num_workers=num_workers,\n",
        "        pin_memory=True,\n",
        "        shuffle=True,   \n",
        "    )\n",
        "    return dataloader"
      ],
      "execution_count": 0,
      "outputs": []
    },
    {
      "cell_type": "markdown",
      "metadata": {
        "id": "ZSicllGN7lnd",
        "colab_type": "text"
      },
      "source": [
        "# Trainer Class"
      ]
    },
    {
      "cell_type": "code",
      "metadata": {
        "id": "yshhTEvEiarj",
        "colab_type": "code",
        "colab": {}
      },
      "source": [
        "class Trainer(object):\n",
        "    '''This class takes care of training and validpathation of our model'''\n",
        "    def __init__(self, model, image_list, bs, lr, epochs):\n",
        "        self.num_workers = 0\n",
        "        self.batch_size = bs\n",
        "        self.accumulation_steps = 32 // self.batch_size\n",
        "        self.lr = lr\n",
        "        self.num_epochs = epochs\n",
        "        self.best_loss = float(\"inf\")\n",
        "        self.phases = [\"train\", \"val\"]\n",
        "        self.device = torch.device(\"cuda:0\")\n",
        "        torch.set_default_tensor_type(\"torch.cuda.FloatTensor\")\n",
        "        self.net = model\n",
        "        self.image_list = image_list\n",
        "        self.criterion = torch.nn.L1Loss()\n",
        "        self.optimizer = optim.Adam(self.net.parameters(), lr=self.lr)\n",
        "        self.scheduler = ReduceLROnPlateau(self.optimizer, mode=\"min\", patience=3, verbose=True,factor = 0.5,min_lr = 1e-5)\n",
        "        self.net = self.net.to(self.device)\n",
        "        cudnn.benchmark = True\n",
        "        self.dataloaders = {\n",
        "            phase: provider(\n",
        "                phase=phase,\n",
        "                image_list = self.image_list,\n",
        "                batch_size=self.batch_size,\n",
        "                num_workers=self.num_workers\n",
        "            )\n",
        "            for phase in self.phases\n",
        "        }\n",
        "        self.losses = {phase: [] for phase in self.phases}\n",
        "        \n",
        "    def forward(self, images, targets):\n",
        "        images = images.to(self.device)\n",
        "        target = targets.to(self.device)\n",
        "        outputs = self.net(images)\n",
        "        loss = self.criterion(outputs, target)\n",
        "        return loss, outputs\n",
        "\n",
        "    def iterate(self, epoch, phase):\n",
        "        start = time.strftime(\"%H:%M:%S\")\n",
        "        print(f\"Starting epoch: {epoch} | phase: {phase} | ⏰: {start}\")\n",
        "        batch_size = self.batch_size\n",
        "        self.net.train(phase == \"train\")\n",
        "        dataloader = self.dataloaders[phase]\n",
        "        running_loss = 0.0\n",
        "        total_batches = len(dataloader)\n",
        "        tk0 = tqdm(dataloader, total=total_batches)\n",
        "        self.optimizer.zero_grad()\n",
        "        for itr, batch in enumerate(tk0): # replace `dataloader` with `tk0` for tqdm\n",
        "            images, targets = batch\n",
        "            loss, outputs = self.forward(images, targets)\n",
        "            loss = loss / self.accumulation_steps\n",
        "            if phase == \"train\":\n",
        "                loss.backward()\n",
        "                if (itr + 1 ) % self.accumulation_steps == 0:\n",
        "                    self.optimizer.step()\n",
        "                    self.optimizer.zero_grad()\n",
        "            running_loss += loss.item()\n",
        "            outputs = outputs.detach().cpu()\n",
        "            tk0.set_postfix(loss=(running_loss / ((itr + 1))))\n",
        "        epoch_loss = (running_loss * self.accumulation_steps) / total_batches\n",
        "        torch.cuda.empty_cache()\n",
        "        print(f'loss:{epoch_loss}')\n",
        "        return epoch_loss\n",
        "\n",
        "    def train_end(self):\n",
        "        train_loss = self.losses[\"train\"]\n",
        "        val_loss = self.losses[\"val\"]\n",
        "        df_data=np.array([train_loss,val_loss]).T\n",
        "        df = pd.DataFrame(df_data,columns = ['train_loss','val_loss'])\n",
        "        df.to_csv(\"Training_log.csv\")\n",
        "\n",
        "    def start(self):\n",
        "        for epoch in range(self.num_epochs):\n",
        "            train_loss = self.iterate(epoch, \"train\")\n",
        "            self.losses[\"train\"].append(train_loss)\n",
        "            state = {\n",
        "                \"epoch\": epoch,\n",
        "                \"best_loss\": self.best_loss,\n",
        "                \"state_dict\": self.net.state_dict(),\n",
        "                \"optimizer\": self.optimizer.state_dict(),\n",
        "            }\n",
        "            with torch.no_grad():\n",
        "                val_loss = self.iterate(epoch, \"val\")\n",
        "                self.losses[\"val\"].append(val_loss)\n",
        "                self.scheduler.step(val_loss)\n",
        "            if val_loss < self.best_loss:\n",
        "                print(\"******** New optimal found, saving state ********\")\n",
        "                state[\"best_loss\"] = self.best_loss = val_loss\n",
        "                torch.save(state, \"./model.pth\")\n",
        "            print()\n",
        "            self.train_end()    \n"
      ],
      "execution_count": 0,
      "outputs": []
    },
    {
      "cell_type": "markdown",
      "metadata": {
        "id": "p-6-9Ic87wRh",
        "colab_type": "text"
      },
      "source": [
        "#Getting the model and Training"
      ]
    },
    {
      "cell_type": "code",
      "metadata": {
        "id": "YAvySwnnbBtL",
        "colab_type": "code",
        "outputId": "8c894000-70bf-4d71-becc-4cf5b98f8467",
        "colab": {
          "base_uri": "https://localhost:8080/",
          "height": 68
        }
      },
      "source": [
        "!pip install efficientnet_pytorch"
      ],
      "execution_count": 11,
      "outputs": [
        {
          "output_type": "stream",
          "text": [
            "Requirement already satisfied: efficientnet_pytorch in /usr/local/lib/python3.6/dist-packages (0.5.1)\n",
            "Requirement already satisfied: torch in /usr/local/lib/python3.6/dist-packages (from efficientnet_pytorch) (1.3.1)\n",
            "Requirement already satisfied: numpy in /usr/local/lib/python3.6/dist-packages (from torch->efficientnet_pytorch) (1.17.4)\n"
          ],
          "name": "stdout"
        }
      ]
    },
    {
      "cell_type": "code",
      "metadata": {
        "id": "QR3KC3QxnvrB",
        "colab_type": "code",
        "colab": {}
      },
      "source": [
        "from efficientnet_pytorch import EfficientNet"
      ],
      "execution_count": 0,
      "outputs": []
    },
    {
      "cell_type": "code",
      "metadata": {
        "id": "vLz1_p1AnvuF",
        "colab_type": "code",
        "outputId": "87d613b4-6f57-452d-824f-d7f4735d5da3",
        "colab": {
          "base_uri": "https://localhost:8080/",
          "height": 34
        }
      },
      "source": [
        "model = EfficientNet.from_pretrained('efficientnet-b3')"
      ],
      "execution_count": 13,
      "outputs": [
        {
          "output_type": "stream",
          "text": [
            "Loaded pretrained weights for efficientnet-b3\n"
          ],
          "name": "stdout"
        }
      ]
    },
    {
      "cell_type": "code",
      "metadata": {
        "id": "9_nkhKX9tjs5",
        "colab_type": "code",
        "colab": {}
      },
      "source": [
        "# model = models.resnet50(pretrained = True)"
      ],
      "execution_count": 0,
      "outputs": []
    },
    {
      "cell_type": "code",
      "metadata": {
        "id": "QzHzcXXAJBiP",
        "colab_type": "code",
        "colab": {}
      },
      "source": [
        "num_ftrs = model._fc.in_features\n",
        "model._fc = nn.Linear(num_ftrs, 3)"
      ],
      "execution_count": 0,
      "outputs": []
    },
    {
      "cell_type": "code",
      "metadata": {
        "id": "WeHEI7Qziatm",
        "colab_type": "code",
        "outputId": "f3add0ba-55ac-4f0a-edf3-1ca7cda2b8fc",
        "colab": {
          "base_uri": "https://localhost:8080/",
          "height": 66,
          "referenced_widgets": [
            "68e673bf89ee48c4bb4ecec4238bd0f7",
            "f8c8707c7b4d4887aee08bddeb1bdf4f",
            "c23c278f3e1647afba6aae344c713059",
            "972f9b77a5b2410eb9cbdf39b1b14cf5",
            "fe9d5034c2c84edd97092615ab4e8821",
            "1aab79d1dcf34f229fc9afaa52394181",
            "0fa232f821eb4ab68341240c0feabb4a",
            "ad2f33cac8d843a0abe77f8c0c2e364a"
          ]
        }
      },
      "source": [
        "model_trainer = Trainer(model, ImagesPath,14,1e-3,10)\n",
        "model_trainer.start()"
      ],
      "execution_count": 0,
      "outputs": [
        {
          "output_type": "stream",
          "text": [
            "Starting epoch: 0 | phase: train | ⏰: 08:13:42\n"
          ],
          "name": "stdout"
        },
        {
          "output_type": "display_data",
          "data": {
            "application/vnd.jupyter.widget-view+json": {
              "model_id": "68e673bf89ee48c4bb4ecec4238bd0f7",
              "version_minor": 0,
              "version_major": 2
            },
            "text/plain": [
              "HBox(children=(IntProgress(value=0, max=6998), HTML(value='')))"
            ]
          },
          "metadata": {
            "tags": []
          }
        }
      ]
    },
    {
      "cell_type": "code",
      "metadata": {
        "id": "PKOpfAxxnvxL",
        "colab_type": "code",
        "colab": {}
      },
      "source": [
        "model.eval()"
      ],
      "execution_count": 0,
      "outputs": []
    },
    {
      "cell_type": "code",
      "metadata": {
        "id": "VylGPyuNBuHA",
        "colab_type": "code",
        "colab": {}
      },
      "source": [
        ""
      ],
      "execution_count": 0,
      "outputs": []
    }
  ]
}